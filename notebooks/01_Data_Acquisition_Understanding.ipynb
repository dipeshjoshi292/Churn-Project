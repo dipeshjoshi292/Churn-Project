{
 "cells": [
  {
   "cell_type": "code",
   "execution_count": null,
   "id": "272dabcd",
   "metadata": {},
   "outputs": [
    {
     "name": "stdout",
     "output_type": "stream",
     "text": [
      "Data loaded successfully!\n"
     ]
    }
   ],
   "source": [
    "# Import necessary libraries\n",
    "import pandas as pd\n",
    "import os\n",
    "\n",
    "# Define the path to your data files\n",
    "# We use os.path.join for cross-platform compatibility\n",
    "# '..' means go up one directory from 'notebooks' to 'my_salesforce_project' (or 'Churn Project')\n",
    "# Then navigate into 'data/raw'\n",
    "data_dir = os.path.join('..', 'data', 'raw')\n",
    "\n",
    "\n",
    "# Define full paths to the CSV files\n",
    "sales_file_path = os.path.join(data_dir, 'sales_transactions.csv')\n",
    "customers_file_path = os.path.join(data_dir, 'customers.csv')\n",
    "\n",
    "# Load the datasets\n",
    "try:\n",
    "    df_sales = pd.read_csv(sales_file_path)\n",
    "    df_customers = pd.read_csv(customers_file_path)\n",
    "    print(\"Data loaded successfully!\")\n",
    "except FileNotFoundError:\n",
    "    print(f\"Error: Make sure 'sales_transactions.csv' and 'customers.csv' are in the '{data_dir}' directory.\")\n",
    "    print(\"If not, run the data_generator.py script from the 'scripts' folder first.\")\n",
    "    # Exit or handle the error appropriately if data isn't found\n",
    "except Exception as e:\n",
    "    print(f\"An unexpected error occurred while loading data: {e}\")"
   ]
  }
 ],
 "metadata": {
  "kernelspec": {
   "display_name": "Python 3",
   "language": "python",
   "name": "python3"
  },
  "language_info": {
   "codemirror_mode": {
    "name": "ipython",
    "version": 3
   },
   "file_extension": ".py",
   "mimetype": "text/x-python",
   "name": "python",
   "nbconvert_exporter": "python",
   "pygments_lexer": "ipython3",
   "version": "3.13.2"
  }
 },
 "nbformat": 4,
 "nbformat_minor": 5
}
