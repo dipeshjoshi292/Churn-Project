{
 "cells": [
  {
   "cell_type": "code",
   "execution_count": 7,
   "id": "272dabcd",
   "metadata": {},
   "outputs": [
    {
     "name": "stdout",
     "output_type": "stream",
     "text": [
      "Data loaded successfully!\n"
     ]
    }
   ],
   "source": [
    "import pandas as pd\n",
    "import os\n",
    "\n",
    "# '..' means go up one directory from 'notebooks' to 'my_salesforce_project' (or 'Churn Project')\n",
    "data_dir = os.path.join('..', 'data', 'raw')\n",
    "#full paths to the CSV files\n",
    "sales_file_path = os.path.join(data_dir, 'sales_transactions.csv')\n",
    "customers_file_path = os.path.join(data_dir, 'customers.csv')\n",
    "# Loading the datasets\n",
    "try:\n",
    "    df_sales = pd.read_csv(sales_file_path)\n",
    "    df_customers = pd.read_csv(customers_file_path)\n",
    "    print(\"Data loaded successfully!\")\n",
    "except FileNotFoundError:\n",
    "    print(f\"Error: Make sure 'sales_transactions.csv' and 'customers.csv' are in the '{data_dir}' directory.\")\n",
    "    print(\"If not, run the data_generator.py script from the 'scripts' folder first.\")\n",
    "    \n",
    "except Exception as e:\n",
    "    print(f\"An unexpected error occurred while loading data: {e}\")"
   ]
  }
 ],
 "metadata": {
  "kernelspec": {
   "display_name": "Python 3",
   "language": "python",
   "name": "python3"
  },
  "language_info": {
   "codemirror_mode": {
    "name": "ipython",
    "version": 3
   },
   "file_extension": ".py",
   "mimetype": "text/x-python",
   "name": "python",
   "nbconvert_exporter": "python",
   "pygments_lexer": "ipython3",
   "version": "3.13.2"
  }
 },
 "nbformat": 4,
 "nbformat_minor": 5
}
